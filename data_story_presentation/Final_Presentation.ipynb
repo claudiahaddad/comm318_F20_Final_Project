{
 "cells": [
  {
   "cell_type": "markdown",
   "metadata": {},
   "source": [
    " #   <span style=\"color:IndianRed\">Covid-19 & Quarantine: The Transformation of Online Consumer Behavior  </span>"
   ]
  },
  {
   "cell_type": "markdown",
   "metadata": {},
   "source": [
    "Beginning in March 2020, Covid-19 transformed life in the United States. Once exciting lives became \"quarantine\" lives as we adjusted to working, schooling and socializing from home. Businesses closed their doors; for some, this was a temporary hiatus. For others, especially small businesses and restaurants, it was permanent. Today, 9 months later, many cities are still shut down or have restrictions.\n",
    "\n",
    "With traditional routines challenged, how have our shopping habits evolved? This project will investigate which industries thrived and which ones suffered throughout the pandemic. It will also examine online shopping behavior by looking at the most popular purchase categories on Amazon, the world's largest online retailer. Online sales will be compared against Covid-19 daily new cases to determine the relationship between e-commerce and the pandemic. \n",
    "\n",
    "<img src=\"images/e-commerce.jpg\" width=\"500\"/>\n",
    "\n"
   ]
  },
  {
   "cell_type": "markdown",
   "metadata": {},
   "source": [
    "<div class=\"alert alert-info\">\n",
    "<center>    <h3>Roadmap</h3>\n",
    "\n",
    "<center> 1. The Pandemic’s Effect On Retail Industries\n",
    "<center> 2. The Rise of E-Commerce \n",
    "<center> 3. The Relationship Between Covid-19 Cases and E-Commerce\n",
    "    </div>\n"
   ]
  },
  {
   "cell_type": "markdown",
   "metadata": {},
   "source": [
    "# <span style=\"color:navy\">The Pandemic’s Effect On Retail </span>\n",
    "\n",
    "\n",
    "  - ## How did the sudden onset of the pandemic affect sales across industries? \n",
    "\n",
    "Prior to the pandemic, all industries had fairly constant sales. However, once March 2020 hit, sales drastically diverged. To analyze this trend, we can examine a <a href=\"https://www.census.gov/retail/index.html\"> dataset</a> from the US Census Bureau that records monthly percent changes in retail sales by industry, beginning in February 2019 .\n",
    "\n",
    " <img src=\"images/all-industries.png\" width=\"500\"/> \n",
    " \n",
    "  <center> Source: U.S Census Bureau, Retail Data\n",
    "        </center>\n",
    "\n",
    "The black vertical line on the plot depicts the start of the pandemic in the United States -- March 2020. Certain industries saw drastic increases (*Grocery, Online*) and decreases in sales (*Sporting goods, clothing, electronics*), while some were intermediately affected (*Health, Landscaping*). \n",
    "\n",
    "\n",
    "- ## Which industries saw the greatest change in sales over the course of the pandemic? \n",
    "\n",
    "This plot shows the trends in the top performing and worst performing industries. The black line depicts the start of the pandemic. Grocery stores had a more sudden increase than online sales, while clothing stores had a more drastic decrease than sporting goods stores. \n",
    "\n",
    " <img src=\"images/industry-trends.png\" width=\"500\"/>\n",
    " \n",
    "  <center> Source: U.S Census Bureau, Retail Data </center>\n",
    "\n",
    "\n",
    " <div class=\"alert alert-info\">\n",
    "\n",
    "### Top-Performing: Grocery Stores and Online Shopping ###\n",
    "\n",
    "Grocery stores saw peak sales in March 2020, and Online Shopping saw peak sales in June 2020. \n",
    "\n",
    "<img src=\"images/grocery.jpg\" width=\"500\"/>\n",
    "\n",
    "People were working from home, thus able to cook more, and many restaurants closed in response to the pandemic. Additionally, people were stocking up on food and essentials more in fear of the pandemic worsening. \n",
    "\n",
    "Online sales peaked in June 2020. Around this time, many physical stores had adapted to an online business model to stay afloat despite the pandemic. Some popular examples are virtual workout classes and curbside pickup. \n",
    "\n",
    "\n",
    "### Worst-Performing: Sporting Goods and Clothing Stores ###\n",
    "\n",
    "Sporting Goods and Clothing Stores saw their lowest sales in April 2020. \n",
    "\n",
    "<img src=\"images/sporting.jpg\" width=\"500\"/>\n",
    "\n",
    "The decrease in clothing stores sales can be explained by the fact that they are considered non-essential businesses and many had to close their stores. Trying on clothes is inherently risky so they are still struggling to recover despite stores reopening. People enjoy the convenience of ordering online and being able to return, even prior to the pandemic, so online shopping will likely remain strong. \n",
    "    \n",
    "\n",
    "Similar to clothing stores, most sporting good stores were considered non-essential and had to shut down. On one hand people were exercising more and exploring the outdoors, participating in activities like tennis and hiking. In the start of the pandemic, people were exercising from home more and investing in gym equipment -- which led to a <a href=\"https://www.businessinsider.com/weights-dumbbells-not-in-stock-online-many-retailers-gyms-closed-2020-6\"> serious shortage of home gym equipment </a> that continues to this day. On the other hand, people were definitely avoiding contact sports and high school/college sports had their seasons canceled. One silver lining for this industry is that these stores are often larger than clothing stores so could probably accomodate larger capacities during the early reopening phases.\n",
    "    \n",
    "</div>"
   ]
  },
  {
   "cell_type": "markdown",
   "metadata": {},
   "source": [
    "# <span style=\"color:navy\">Examining the Rise in E-Commerce</span>\n",
    "\n",
    "As the previous analysis revealed, the pandemic caused a significant boost to e-commerce sales for a variety of reasons. Amazon is the world's largest online retailer.\n",
    "\n",
    "<img src=\"images/amazon.png\" height=\"50\" width=\"500\"/>\n",
    "\n",
    "Amazon thrived during the Pandemic. Their wide range of offerings and fast shipping made them a customer favorite. The company soared in value due to the Pandemic, as evidenced by its stock performance below.\n",
    "\n",
    "\n",
    "<img src=\"images/stock.png\" width=\"500\"/>\n",
    "\n",
    "<center> Source: <a href=\"https://finance.yahoo.com/quote/AMZN/history?period1=1580515200&period2=1588204800&interval=1wk&filter=history&frequency=1wk&includeAdjustedClose=true\"> Yahoo Finance, Amazon Stock Historical Data </a> </center>"
   ]
  },
  {
   "cell_type": "markdown",
   "metadata": {},
   "source": [
    "In the above plot, we see a gradual increase in Amazon's stock highs between March and the beginning of April. There is a sharp increase in the month of April, and the stock price has remained high the past few months, hovering around $3,000. "
   ]
  },
  {
   "cell_type": "markdown",
   "metadata": {},
   "source": [
    "- ## What were people buying on Amazon before and during the Pandemic?\n",
    "\n",
    "Let's evaluate Amazon's sales more closely by seeing what people were buying during the pandemic. This Statista <a href=\"https://www.statista.com/statistics/1112952/most-popular-product-categories-purchased-amazon-prime-members-usa/\"> dataset </a> looks at product categories most purchased by U.S. Amazon Prime members in February 2020 and April 2020 and reflects the % of orders (out of total orders) containing an item from that product category. In other words, if an order contains food and clothing, it would be counted in both of those product categories.\n",
    "\n",
    "This plot depicts the percent of purchases that included an item from each product category, in February 2020 and April 2020. Higher percentages means more orders contained items from that category. \n",
    "\n",
    "<img src=\"images/amazon_categories.png\" width=\"500\"/>\n",
    " \n",
    " <center>  Source: Statista, Coronavirus impact on the most popular product categories purchased by Amazon Prime members in the U.S. </center>\n",
    "    \n",
    " <div class=\"alert alert-info\">\n",
    "\n",
    "### Top Product Categories: Clothing/Shoes/Accessories & Pharmacy/Health/Beauty\n",
    "\n",
    "These two categories had the most purchases prior to the pandemic and during the pandemic. \n",
    "However, clothing sales decreased during the pandemic while pharmacy, health and beauty purchases increased. Clothing is nonessential, and many people weren't leaving their house at all. No fancy dresses needed! Pharmacy and health products are more essential, especially if one is sick. \n",
    "    \n",
    " <center>  <h4> There was a bit more divergence in the third and fourth most popular product categories. </h4>\n",
    "    \n",
    "###  Prior to Pandemic \n",
    "         #3. Household & #4. Entertainment\n",
    "\n",
    "    \n",
    "###  During the Pandemic \n",
    "         #3. Groceries & #4. Household\n",
    "     \n",
    " </center>\n",
    "  \n",
    "The financial strain caused by the pandemic made people more focused on the essentials (groceries) rather than entertainment. More people were also buying their groceries online and having them delivered due to the stay-at-home orders. Entertainment was no longer an essential compared to food and household goods.\n",
    "</div>\n",
    "\n",
    "  \n",
    "\n",
    "- ## Which product categories saw the greatest change in purchases?\n",
    "\n",
    "This plot shows how each product category's sales changed during the pandemic - some saw large percent increases in sales (Groceries, Office Supplies), while others saw decreases (Clothing, Electronics). \n",
    "\n",
    "<img src=\"images/buyers\" width=\"500\"/>\n",
    " <center>  Source: Statista, Coronavirus impact on the most popular product categories purchased by Amazon Prime members in the U.S. </center>\n",
    "\n",
    " <div class=\"alert alert-info\">\n",
    "\n",
    "\n",
    "### Greatest Increase: Groceries and Office Supplies \n",
    "\n",
    "This increase can be explained by people shifting to working and schooling from home. Since people were home more, they were buying groceries and snacks more since they weren't relying on office snacks, cafeterias, dining halls, etc.  Many people switched to online grocery stores, such as Amazon Fresh and Whole Foods, as it was safer and more convenient. Overall, people were spending money on the essentials in the peak of the pandemic.\n",
    "\n",
    "### Greatest Decrease: Clothing and Electronics\n",
    "\n",
    "This decrease can be explained by people focusing their budget on the essentials. Clothing and electronics were not essential in the peak of the pandemic. However, I could imagine people spending money on video cameras or microphones for better video calls. Perhaps this falls under office supplies, though. The average consumer was probably not investing in expensive technology like a new cell phone or laptop due to the financial uncertainty the pandemic brought to many households. \n",
    "\n",
    "</div> \n"
   ]
  },
  {
   "cell_type": "markdown",
   "metadata": {},
   "source": [
    "# <span style=\"color:navy\">The Relationship Between Covid-19 and E-Commerce</span>\n",
    "\n",
    "Now, lets zoom out a bit and consider how the trends in Covid-19 cases mirror the trends in online sales. The plot below depicts the monthly number of Covid-19 cases between February and August 2020 using this <a href=\"https://www.statista.com/statistics/1102816/coronavirus-covid19-cases-number-us-americans-by-day/\"> dataset </a> from Statista.\n",
    "\n",
    "- ## How did the number of Covid-19 cases evolve from February to August? \n",
    "\n",
    "In this plot, we can see that the pandemic hit in full force in March and peaked in July. While this data was only until August, cases continue to increase and break new records now in December. \n",
    "\n",
    "<img src=\"images/covid.png\" width=\"500\"/>\n",
    "\n",
    "<center> Source: Statista, U.S Covid-19 New Cases By Day </center> \n",
    "\n",
    "\n",
    "- ## How did online sales evolve with rising Covid-19 cases? \n",
    "\n",
    "Finally, let's examine how the trends in monthly Covid-19 cases compared to monthly online sales. We would expect a parallel relationship. This graph displays Covid-19 cases, shown in red, plotted against online sales, shown in blue.\n",
    "\n",
    "<img src=\"images/doubleplot\" width=\"500\"/>\n",
    "<center> Source: Statista & U.S Census Bureau </center> \n",
    "\n",
    "While cases and online sales grew in tandem from February through June, the relationship shifted around June. Cases hit a low point, while online sales hit a new high. After June, online sales decreased and cases peaked -- hitting their highest level in August. Online sales may have decreased in July/August because many businesses were open again and people felt more comfortable with shopping in store. This was especially true for regions that had their peak cases early in the year, such as New York City and Philadelphia.\n"
   ]
  },
  {
   "cell_type": "markdown",
   "metadata": {},
   "source": [
    "# <span style=\"color:navy\">Conclusion</span>\n",
    "\n",
    "- ## How will this affect e-commerce in the long-term? \n",
    "\n",
    " ### Consumer Habits\n",
    "People have grown accustomed to the ease of ordering online and the larger selection of items to choose from. This switch is especially prevalent with ordering groceries and clothing. Many may never return to their previous levels of in-person shopping. E-commerce also expanded to a new segment, the elderly, due to Covid-19. Their new familiartiy with ordering online will probably continue to be utilized, as online shopping is often more convenient and quick compared to in-person shopping. \n",
    "\n",
    " ### Business Logistics\n",
    "Many small businesses invested in online platforms to facilitate ordering and pickup. These investments will probably pay off in the long term as they provide convenience to customers and help businesses work more efficiently. Some businesses may scale down the size of their offices or stores as e-commerce becomes the dominant form of shopping. \n",
    "\n",
    "- ## What are some larger takeaways? \n",
    "\n",
    "    This pandemic has revealed which industries are critical and which ones are superfluous. These insights may be helpful when deciding which stocks to invest in, which companies to work for, and how to allocate money. Some industries will be untouched by challenges like pandemics, natural disasters, and economic turmoil. Others, such as travel and retail, feel the impact the hardest. Covid-19 brought a lot of instability and uncertainty, but with the news of a vaccine, there is light at the end of the tunnel for people and businesses. "
   ]
  }
 ],
 "metadata": {
  "kernelspec": {
   "display_name": "Python 3",
   "language": "python",
   "name": "python3"
  },
  "language_info": {
   "codemirror_mode": {
    "name": "ipython",
    "version": 3
   },
   "file_extension": ".py",
   "mimetype": "text/x-python",
   "name": "python",
   "nbconvert_exporter": "python",
   "pygments_lexer": "ipython3",
   "version": "3.7.3"
  }
 },
 "nbformat": 4,
 "nbformat_minor": 2
}
